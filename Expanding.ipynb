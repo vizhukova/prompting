{
 "cells": [
  {
   "cell_type": "code",
   "execution_count": 1,
   "id": "1dccd768-ae26-46e8-b781-2143fa114377",
   "metadata": {},
   "outputs": [],
   "source": [
    "import openai\n",
    "import os\n",
    "\n",
    "openai.api_key = os.getenv('OPEN_API_KEY')"
   ]
  },
  {
   "cell_type": "code",
   "execution_count": 8,
   "id": "4d74749b-b5a1-4c61-90bd-7ee6dcb7177b",
   "metadata": {},
   "outputs": [],
   "source": [
    "def get_completion(prompt, model=\"gpt-3.5-turbo\", temperature=0):\n",
    "    messages = [{\"role\": \"user\", \"content\": prompt}]\n",
    "    client = openai.OpenAI()\n",
    "    response = client.chat.completions.create(\n",
    "        model=model,\n",
    "        messages=messages,\n",
    "        temperature=temperature\n",
    "    )\n",
    "    return response.choices[0].message.content"
   ]
  },
  {
   "cell_type": "markdown",
   "id": "f2763892-b7b5-4541-bd40-d03da4ebc412",
   "metadata": {},
   "source": [
    "# Customize the automated reply to a customer email"
   ]
  },
  {
   "cell_type": "code",
   "execution_count": 4,
   "id": "a706c070-6ccd-4ba7-87ca-28ae798a7a70",
   "metadata": {},
   "outputs": [],
   "source": [
    "# given the sentiment from the lesson on \"inferring\",\n",
    "# and the original customer message, customize the email\n",
    "sentiment = \"negative\"\n",
    "\n",
    "# review for a blender\n",
    "review = f\"\"\"\n",
    "So, they still had the 17 piece system on seasonal \n",
    "sale for around $49 in the month of November, about \n",
    "half off, but for some reason (call it price gouging) \n",
    "around the second week of December the prices all went \n",
    "up to about anywhere from between $70-$89 for the same \n",
    "system. And the 11 piece system went up around $10 or \n",
    "so in price also from the earlier sale price of $29. \n",
    "So it looks okay, but if you look at the base, the part \n",
    "where the blade locks into place doesn’t look as good \n",
    "as in previous editions from a few years ago, but I \n",
    "plan to be very gentle with it (example, I crush \n",
    "very hard items like beans, ice, rice, etc. in the  \n",
    "blender first then pulverize them in the serving size \n",
    "I want in the blender then switch to the whipping \n",
    "blade for a finer flour, and use the cross cutting blade \n",
    "first when making smoothies, then use the flat blade \n",
    "if I need them finer/less pulpy). Special tip when making \n",
    "smoothies, finely cut and freeze the fruits and \n",
    "vegetables (if using spinach-lightly stew soften the  \n",
    "spinach then freeze until ready for use-and if making \n",
    "sorbet, use a small to medium sized food processor)  \n",
    "that you plan to use that way you can avoid adding so \n",
    "much ice if at all-when making your smoothie. \n",
    "After about a year, the motor was making a funny noise. \n",
    "I called customer service but the warranty expired \n",
    "already, so I had to buy another one. FYI: The overall \n",
    "quality has gone done in these types of products, so \n",
    "they are kind of counting on brand recognition and \n",
    "consumer loyalty to maintain sales. Got it in about \n",
    "two days.\n",
    "\"\"\""
   ]
  },
  {
   "cell_type": "code",
   "execution_count": 9,
   "id": "bebdc980-194a-4a3f-8406-97c479af4bd0",
   "metadata": {},
   "outputs": [
    {
     "name": "stdout",
     "output_type": "stream",
     "text": [
      "Dear valued customer,\n",
      "\n",
      "Thank you for taking the time to share your feedback with us. We are sorry to hear about your experience with the pricing changes and the quality of the product. We apologize for any inconvenience this may have caused you.\n",
      "\n",
      "If you have any further concerns or would like to discuss this matter further, please feel free to reach out to our customer service team for assistance.\n",
      "\n",
      "We appreciate your feedback as it helps us improve our products and services for all our customers.\n",
      "\n",
      "Thank you again for your review.\n",
      "\n",
      "AI customer agent\n"
     ]
    }
   ],
   "source": [
    "prompt = f\"\"\"\n",
    "You are a customer service AI assistant.\n",
    "Your task is to send an email reply to a valued customer.\n",
    "Given the customer email delimited by ```, \n",
    "Generate a reply to thank the customer for their review.\n",
    "If the sentiment is positive or neutral, thank them for \n",
    "their review.\n",
    "If the sentiment is negative, apologize and suggest that \n",
    "they can reach out to customer service. \n",
    "Make sure to use specific details from the review.\n",
    "Write in a concise and professional tone.\n",
    "Sign the email as `AI customer agent`.\n",
    "Customer review: ```{review}```\n",
    "Review sentiment: {sentiment}\n",
    "\"\"\"\n",
    "response = get_completion(prompt)\n",
    "print(response)"
   ]
  },
  {
   "cell_type": "markdown",
   "id": "b9693bc9-bddc-4029-8f64-0582418fd717",
   "metadata": {},
   "source": [
    "# Remind the model to use details from the customer's email"
   ]
  },
  {
   "cell_type": "code",
   "execution_count": 10,
   "id": "268ba5c3-a6cd-40bb-a6f6-339ac7934b94",
   "metadata": {},
   "outputs": [
    {
     "name": "stdout",
     "output_type": "stream",
     "text": [
      "Dear valued customer,\n",
      "\n",
      "Thank you for taking the time to share your feedback with us. We are truly sorry to hear about your experience with the pricing changes and the quality of the product. We apologize for any inconvenience this may have caused you.\n",
      "\n",
      "If you have any further concerns or would like to discuss this matter further, please feel free to reach out to our customer service team for assistance.\n",
      "\n",
      "Thank you for your understanding.\n",
      "\n",
      "AI customer agent\n"
     ]
    }
   ],
   "source": [
    "prompt = f\"\"\"\n",
    "You are a customer service AI assistant.\n",
    "Your task is to send an email reply to a valued customer.\n",
    "Given the customer email delimited by ```, \n",
    "Generate a reply to thank the customer for their review.\n",
    "If the sentiment is positive or neutral, thank them for \n",
    "their review.\n",
    "If the sentiment is negative, apologize and suggest that \n",
    "they can reach out to customer service. \n",
    "Make sure to use specific details from the review.\n",
    "Write in a concise and professional tone.\n",
    "Sign the email as `AI customer agent`.\n",
    "Customer review: ```{review}```\n",
    "Review sentiment: {sentiment}\n",
    "\"\"\"\n",
    "response = get_completion(prompt, temperature=0.7)\n",
    "print(response)"
   ]
  },
  {
   "cell_type": "code",
   "execution_count": null,
   "id": "42cde8d1-6877-4954-b376-82b07d28afc5",
   "metadata": {},
   "outputs": [],
   "source": []
  }
 ],
 "metadata": {
  "kernelspec": {
   "display_name": "Python 3 (ipykernel)",
   "language": "python",
   "name": "python3"
  },
  "language_info": {
   "codemirror_mode": {
    "name": "ipython",
    "version": 3
   },
   "file_extension": ".py",
   "mimetype": "text/x-python",
   "name": "python",
   "nbconvert_exporter": "python",
   "pygments_lexer": "ipython3",
   "version": "3.12.1"
  }
 },
 "nbformat": 4,
 "nbformat_minor": 5
}
