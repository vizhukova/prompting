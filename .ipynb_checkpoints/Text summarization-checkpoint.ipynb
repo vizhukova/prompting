{
 "cells": [
  {
   "cell_type": "code",
   "execution_count": 2,
   "id": "a6ac3741-1097-4cfc-846e-0d92cec34145",
   "metadata": {},
   "outputs": [],
   "source": [
    "import openai\n",
    "import os\n",
    "\n",
    "openai.api_key = os.getenv('OPEN_API_KEY')"
   ]
  },
  {
   "cell_type": "markdown",
   "id": "79893b37-4a95-47af-938b-03d7eac1c506",
   "metadata": {},
   "source": [
    "client = openai.OpenAI()\n",
    "\n",
    "def get_completion(prompt, model='gpt-3.5-turbo'):\n",
    "    messages = [{\"role\": \"user\", \"content\": prompt}]\n",
    "    response = client.chat.completions.create(\n",
    "        model=model,\n",
    "        messages=messages,\n",
    "        temperature=0\n",
    "    )\n",
    "    return response.choices[0].message.content"
   ]
  },
  {
   "cell_type": "code",
   "execution_count": 7,
   "id": "8870b053-d8b6-4c34-aaaa-44f64695c633",
   "metadata": {},
   "outputs": [],
   "source": [
    "prod_review = \"\"\"\n",
    "Got this panda plush toy for my daughter's birthday, \n",
    "who loves it and takes it everywhere. It's soft and \n",
    "super cute, and its face has a friendly look. It's \n",
    "a bit small for what I paid though. I think there \n",
    "might be other options that are bigger for the \n",
    "same price. It arrived a day earlier than expected, \n",
    "so I got to play with it myself before I gave it \n",
    "to her.\n",
    "\"\"\""
   ]
  },
  {
   "cell_type": "markdown",
   "id": "7e7a5e1c-d628-4ddf-a994-02c90cbf3fc3",
   "metadata": {},
   "source": [
    "# Summarize with a word/sentence/character limit"
   ]
  },
  {
   "cell_type": "code",
   "execution_count": 8,
   "id": "20ea7c5a-9cf7-453e-bb2c-be0922e4d6e6",
   "metadata": {},
   "outputs": [
    {
     "name": "stdout",
     "output_type": "stream",
     "text": [
      "Summary: \n",
      "Soft and cute panda plush toy loved by daughter, but smaller than expected for the price. Arrived early, allowing for personal enjoyment before gifting.\n"
     ]
    }
   ],
   "source": [
    "prompt = f\"\"\"\n",
    "Your task is to generate a short summary of a product \n",
    "review from an ecommerce site.\n",
    "\n",
    "Summarize the review below, delimited by triple \n",
    "backticks, in at most 30 words. \n",
    "\n",
    "Review: ```{prod_review}```\n",
    "\"\"\"\n",
    "\n",
    "response = get_completion(prompt)\n",
    "print(response)\n"
   ]
  },
  {
   "cell_type": "markdown",
   "id": "c620a706-2592-4806-ae7e-f2973891bd7f",
   "metadata": {},
   "source": [
    "# Summarize with a focus on shipping and delivery"
   ]
  },
  {
   "cell_type": "code",
   "execution_count": 10,
   "id": "5f8925e5-cdf7-431a-a4a2-49e1061f6291",
   "metadata": {},
   "outputs": [
    {
     "name": "stdout",
     "output_type": "stream",
     "text": [
      "The customer received the panda plush toy a day earlier than expected, allowing them to enjoy it before gifting it.\n"
     ]
    }
   ],
   "source": [
    "prompt = f\"\"\"\n",
    "Your task is to generate a short summary of a product \n",
    "review from an ecommerce site to give feedback to the \n",
    "Shipping deparmtment. \n",
    "\n",
    "Summarize the review below, delimited by triple \n",
    "backticks, in at most 30 words, and focusing on any aspects \n",
    "that mention shipping and delivery of the product. \n",
    "\n",
    "Review: ```{prod_review}```\n",
    "\"\"\"\n",
    "\n",
    "response = get_completion(prompt)\n",
    "print(response)\n"
   ]
  },
  {
   "cell_type": "markdown",
   "id": "aeaea411-7406-4022-9813-333df9512cee",
   "metadata": {},
   "source": [
    "# Summarize with a focus on price and value"
   ]
  },
  {
   "cell_type": "code",
   "execution_count": 12,
   "id": "2460bdce-3373-46a7-8131-d70f895d7ec5",
   "metadata": {},
   "outputs": [
    {
     "name": "stdout",
     "output_type": "stream",
     "text": [
      "Summary: \n",
      "Cute and soft panda plush toy, loved by daughter, but perceived as slightly small for the price paid. Consider offering larger options for the same price.\n"
     ]
    }
   ],
   "source": [
    "prompt = f\"\"\"\n",
    "Your task is to generate a short summary of a product \n",
    "review from an ecommerce site to give feedback to the \n",
    "pricing deparmtment, responsible for determining the \n",
    "price of the product.  \n",
    "\n",
    "Summarize the review below, delimited by triple \n",
    "backticks, in at most 30 words, and focusing on any aspects \n",
    "that are relevant to the price and perceived value. \n",
    "\n",
    "Review: ```{prod_review}```\n",
    "\"\"\"\n",
    "\n",
    "response = get_completion(prompt)\n",
    "print(response)\n"
   ]
  },
  {
   "cell_type": "markdown",
   "id": "732c6f24-a46d-4df2-bc5c-f96ded097a4c",
   "metadata": {},
   "source": [
    "# Try \"extract\" instead of \"summarize\""
   ]
  },
  {
   "cell_type": "code",
   "execution_count": 14,
   "id": "25530c36-6b1b-400f-9a46-6d350f641f20",
   "metadata": {},
   "outputs": [
    {
     "name": "stdout",
     "output_type": "stream",
     "text": [
      "Feedback: The product arrived a day earlier than expected, allowing the customer to play with it before giving it as a gift.\n"
     ]
    }
   ],
   "source": [
    "prompt = f\"\"\"\n",
    "Your task is to extract relevant information from \n",
    "a product review from an ecommerce site to give \n",
    "feedback to the Shipping department. \n",
    "\n",
    "From the review below, delimited by triple quotes \n",
    "extract the information relevant to shipping and  \n",
    "delivery. Limit to 30 words. \n",
    "\n",
    "Review: ```{prod_review}```\n",
    "\"\"\"\n",
    "\n",
    "response = get_completion(prompt)\n",
    "print(response)"
   ]
  },
  {
   "cell_type": "markdown",
   "id": "cdfd23f4-da91-4b6a-bb7f-240868dc340c",
   "metadata": {},
   "source": [
    "# Summarize multiple product reviews"
   ]
  },
  {
   "cell_type": "code",
   "execution_count": 15,
   "id": "c62adebc-489a-4c50-8cc7-5a1abfe63128",
   "metadata": {},
   "outputs": [],
   "source": [
    "\n",
    "review_1 = prod_review \n",
    "\n",
    "# review for a standing lamp\n",
    "review_2 = \"\"\"\n",
    "Needed a nice lamp for my bedroom, and this one \n",
    "had additional storage and not too high of a price \n",
    "point. Got it fast - arrived in 2 days. The string \n",
    "to the lamp broke during the transit and the company \n",
    "happily sent over a new one. Came within a few days \n",
    "as well. It was easy to put together. Then I had a \n",
    "missing part, so I contacted their support and they \n",
    "very quickly got me the missing piece! Seems to me \n",
    "to be a great company that cares about their customers \n",
    "and products. \n",
    "\"\"\"\n",
    "\n",
    "# review for an electric toothbrush\n",
    "review_3 = \"\"\"\n",
    "My dental hygienist recommended an electric toothbrush, \n",
    "which is why I got this. The battery life seems to be \n",
    "pretty impressive so far. After initial charging and \n",
    "leaving the charger plugged in for the first week to \n",
    "condition the battery, I've unplugged the charger and \n",
    "been using it for twice daily brushing for the last \n",
    "3 weeks all on the same charge. But the toothbrush head \n",
    "is too small. I’ve seen baby toothbrushes bigger than \n",
    "this one. I wish the head was bigger with different \n",
    "length bristles to get between teeth better because \n",
    "this one doesn’t.  Overall if you can get this one \n",
    "around the $50 mark, it's a good deal. The manufactuer's \n",
    "replacements heads are pretty expensive, but you can \n",
    "get generic ones that're more reasonably priced. This \n",
    "toothbrush makes me feel like I've been to the dentist \n",
    "every day. My teeth feel sparkly clean! \n",
    "\"\"\"\n",
    "\n",
    "# review for a blender\n",
    "review_4 = \"\"\"\n",
    "So, they still had the 17 piece system on seasonal \n",
    "sale for around $49 in the month of November, about \n",
    "half off, but for some reason (call it price gouging) \n",
    "around the second week of December the prices all went \n",
    "up to about anywhere from between $70-$89 for the same \n",
    "system. And the 11 piece system went up around $10 or \n",
    "so in price also from the earlier sale price of $29. \n",
    "So it looks okay, but if you look at the base, the part \n",
    "where the blade locks into place doesn’t look as good \n",
    "as in previous editions from a few years ago, but I \n",
    "plan to be very gentle with it (example, I crush \n",
    "very hard items like beans, ice, rice, etc. in the \n",
    "blender first then pulverize them in the serving size \n",
    "I want in the blender then switch to the whipping \n",
    "blade for a finer flour, and use the cross cutting blade \n",
    "first when making smoothies, then use the flat blade \n",
    "if I need them finer/less pulpy). Special tip when making \n",
    "smoothies, finely cut and freeze the fruits and \n",
    "vegetables (if using spinach-lightly stew soften the  \n",
    "spinach then freeze until ready for use-and if making \n",
    "sorbet, use a small to medium sized food processor)  \n",
    "that you plan to use that way you can avoid adding so \n",
    "much ice if at all-when making your smoothie. \n",
    "After about a year, the motor was making a funny noise. \n",
    "I called customer service but the warranty expired \n",
    "already, so I had to buy another one. FYI: The overall \n",
    "quality has gone done in these types of products, so \n",
    "they are kind of counting on brand recognition and \n",
    "consumer loyalty to maintain sales. Got it in about \n",
    "two days.\n",
    "\"\"\"\n",
    "\n",
    "reviews = [review_1, review_2, review_3, review_4]"
   ]
  },
  {
   "cell_type": "code",
   "execution_count": 17,
   "id": "07c90153-15ae-49c3-9cb4-501345288557",
   "metadata": {},
   "outputs": [
    {
     "name": "stdout",
     "output_type": "stream",
     "text": [
      "0 Soft, cute panda plush toy loved by daughter, but small for price. Arrived early, friendly face. \n",
      "\n",
      "1 Great lamp with storage, fast delivery, excellent customer service for broken parts and missing pieces. \n",
      "\n",
      "2 Impressive battery life, small brush head, good deal at $50, feels like a dentist clean. \n",
      "\n",
      "3 Mixed feelings on price changes, quality decline, and motor issues after a year of use. Delivery was quick. \n",
      "\n"
     ]
    }
   ],
   "source": [
    "for i in range(len(reviews)):\n",
    "    prompt = f\"\"\"\n",
    "    Your task is to generate a short summary of a product \n",
    "    review from an ecommerce site. \n",
    "\n",
    "    Summarize the review below, delimited by triple \n",
    "    backticks in at most 20 words. \n",
    "\n",
    "    Review: ```{reviews[i]}```\n",
    "    \"\"\"\n",
    "\n",
    "    response = get_completion(prompt)\n",
    "    print(i, response, \"\\n\")"
   ]
  },
  {
   "cell_type": "code",
   "execution_count": null,
   "id": "57b7a47b-35be-45f6-9df8-3565be3bed32",
   "metadata": {},
   "outputs": [],
   "source": []
  }
 ],
 "metadata": {
  "kernelspec": {
   "display_name": "Python 3 (ipykernel)",
   "language": "python",
   "name": "python3"
  },
  "language_info": {
   "codemirror_mode": {
    "name": "ipython",
    "version": 3
   },
   "file_extension": ".py",
   "mimetype": "text/x-python",
   "name": "python",
   "nbconvert_exporter": "python",
   "pygments_lexer": "ipython3",
   "version": "3.12.1"
  }
 },
 "nbformat": 4,
 "nbformat_minor": 5
}
